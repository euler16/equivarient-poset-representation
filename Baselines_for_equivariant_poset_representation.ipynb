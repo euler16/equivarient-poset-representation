{
  "nbformat": 4,
  "nbformat_minor": 0,
  "metadata": {
    "colab": {
      "name": "Baselines for equivariant poset representation.ipynb",
      "provenance": [],
      "collapsed_sections": []
    },
    "kernelspec": {
      "name": "python3",
      "display_name": "Python 3"
    },
    "language_info": {
      "name": "python"
    }
  },
  "cells": [
    {
      "cell_type": "code",
      "execution_count": 1,
      "metadata": {
        "colab": {
          "base_uri": "https://localhost:8080/"
        },
        "id": "Kr6hdb2blXMa",
        "outputId": "b2fbdeed-5736-48cf-dc43-7c3a2f280198"
      },
      "outputs": [
        {
          "output_type": "stream",
          "name": "stdout",
          "text": [
            "Looking in indexes: https://pypi.org/simple, https://us-python.pkg.dev/colab-wheels/public/simple/\n",
            "Collecting class-resolver\n",
            "  Downloading class_resolver-0.3.10-py3-none-any.whl (21 kB)\n",
            "Installing collected packages: class-resolver\n",
            "Successfully installed class-resolver-0.3.10\n"
          ]
        }
      ],
      "source": [
        "!!pip install torch-scatter torch-sparse torch-cluster torch-spline-conv torch-geometric -f https://data.pyg.org/whl/torch-1.12.0+cpu.html\n",
        "!pip install class-resolver"
      ]
    },
    {
      "cell_type": "code",
      "source": [
        "!pip install matplotlib"
      ],
      "metadata": {
        "colab": {
          "base_uri": "https://localhost:8080/"
        },
        "id": "LIpYsvdVU2U8",
        "outputId": "c3846d57-dbae-4dc2-bdcd-b59534de89b9"
      },
      "execution_count": 75,
      "outputs": [
        {
          "output_type": "stream",
          "name": "stdout",
          "text": [
            "Looking in indexes: https://pypi.org/simple, https://us-python.pkg.dev/colab-wheels/public/simple/\n",
            "Requirement already satisfied: matplotlib in /usr/local/lib/python3.7/dist-packages (3.2.2)\n",
            "Requirement already satisfied: cycler>=0.10 in /usr/local/lib/python3.7/dist-packages (from matplotlib) (0.11.0)\n",
            "Requirement already satisfied: pyparsing!=2.0.4,!=2.1.2,!=2.1.6,>=2.0.1 in /usr/local/lib/python3.7/dist-packages (from matplotlib) (3.0.9)\n",
            "Requirement already satisfied: kiwisolver>=1.0.1 in /usr/local/lib/python3.7/dist-packages (from matplotlib) (1.4.3)\n",
            "Requirement already satisfied: python-dateutil>=2.1 in /usr/local/lib/python3.7/dist-packages (from matplotlib) (2.8.2)\n",
            "Requirement already satisfied: numpy>=1.11 in /usr/local/lib/python3.7/dist-packages (from matplotlib) (1.21.6)\n",
            "Requirement already satisfied: typing-extensions in /usr/local/lib/python3.7/dist-packages (from kiwisolver>=1.0.1->matplotlib) (4.1.1)\n",
            "Requirement already satisfied: six>=1.5 in /usr/local/lib/python3.7/dist-packages (from python-dateutil>=2.1->matplotlib) (1.15.0)\n"
          ]
        }
      ]
    },
    {
      "cell_type": "code",
      "source": [
        "import torch\n",
        "import torch_geometric as tg\n",
        "\n",
        "from torch_geometric.loader import DataLoader\n",
        "from torch.utils.data import random_split\n",
        "\n",
        "import torch.nn.functional as F"
      ],
      "metadata": {
        "id": "W8APMcZzlnFh"
      },
      "execution_count": 3,
      "outputs": []
    },
    {
      "cell_type": "code",
      "source": [
        ""
      ],
      "metadata": {
        "id": "p3JszV_FU1nN"
      },
      "execution_count": null,
      "outputs": []
    },
    {
      "cell_type": "code",
      "source": [
        "device = torch.device('cuda' if torch.cuda.is_available() else 'cpu')\n",
        "\n",
        "DATA_PATH = \"sushi-posets.pyg\"\n",
        "args = {\n",
        "    \"TRAIN_N\": 3500,\n",
        "    \"TEST_N\": 500,\n",
        "    \"VAL_N\": 1000,\n",
        "    \"BATCH_SIZE\": 20\n",
        "}"
      ],
      "metadata": {
        "id": "XZKExIzrlqiy"
      },
      "execution_count": 4,
      "outputs": []
    },
    {
      "cell_type": "code",
      "source": [
        "dataset = torch.load(DATA_PATH)"
      ],
      "metadata": {
        "id": "BwONbAdanaqE"
      },
      "execution_count": 52,
      "outputs": []
    },
    {
      "cell_type": "markdown",
      "source": [
        "## Data Study"
      ],
      "metadata": {
        "id": "gRWaHfCnPqfx"
      }
    },
    {
      "cell_type": "code",
      "source": [
        "type(dataset)"
      ],
      "metadata": {
        "colab": {
          "base_uri": "https://localhost:8080/"
        },
        "id": "pZ8yxdn6ngFE",
        "outputId": "d1d476b9-46e7-4318-f41c-267f635a19c7"
      },
      "execution_count": 53,
      "outputs": [
        {
          "output_type": "execute_result",
          "data": {
            "text/plain": [
              "list"
            ]
          },
          "metadata": {},
          "execution_count": 53
        }
      ]
    },
    {
      "cell_type": "code",
      "source": [
        "len(dataset)"
      ],
      "metadata": {
        "colab": {
          "base_uri": "https://localhost:8080/"
        },
        "id": "6LuZ7UGAqPIZ",
        "outputId": "44f0c1a8-c7df-42ed-b53d-af7c453ff1e7"
      },
      "execution_count": 54,
      "outputs": [
        {
          "output_type": "execute_result",
          "data": {
            "text/plain": [
              "5000"
            ]
          },
          "metadata": {},
          "execution_count": 54
        }
      ]
    },
    {
      "cell_type": "code",
      "source": [
        "import random\n",
        "\n",
        "idx = random.randint(0, len(dataset))\n",
        "print(idx)"
      ],
      "metadata": {
        "colab": {
          "base_uri": "https://localhost:8080/"
        },
        "id": "4zndOj3uUH1U",
        "outputId": "75758d86-1865-4da4-d465-8378ef0f1327"
      },
      "execution_count": 78,
      "outputs": [
        {
          "output_type": "stream",
          "name": "stdout",
          "text": [
            "73\n"
          ]
        }
      ]
    },
    {
      "cell_type": "code",
      "source": [
        "dataset[idx]"
      ],
      "metadata": {
        "colab": {
          "base_uri": "https://localhost:8080/"
        },
        "id": "bpOtiKPDpQpV",
        "outputId": "e6f03c58-b217-4701-e151-2578870235b8"
      },
      "execution_count": 67,
      "outputs": [
        {
          "output_type": "execute_result",
          "data": {
            "text/plain": [
              "Data(x=[10, 7], y=0, zeta_index=[2, 23], hasse_index=[0], edge_index=[2, 23])"
            ]
          },
          "metadata": {},
          "execution_count": 67
        }
      ]
    },
    {
      "cell_type": "code",
      "source": [
        "import networkx as nx\n",
        "\n",
        "data = dataset[idx]\n",
        "g = tg.utils.to_networkx(data, to_undirected=False)\n",
        "nx.draw(g)\n"
      ],
      "metadata": {
        "colab": {
          "base_uri": "https://localhost:8080/",
          "height": 319
        },
        "id": "-kKQtBmKUk_t",
        "outputId": "ae97a7d0-04a2-4fef-aab7-70be534ea95d"
      },
      "execution_count": 79,
      "outputs": [
        {
          "output_type": "display_data",
          "data": {
            "text/plain": [
              "<Figure size 432x288 with 1 Axes>"
            ],
            "image/png": "[encoded data removed]"
          },
          "metadata": {}
        }
      ]
    },
    {
      "cell_type": "code",
      "source": [
        "print(dataset[idx].num_nodes, dataset[idx].num_edges)"
      ],
      "metadata": {
        "colab": {
          "base_uri": "https://localhost:8080/"
        },
        "id": "b_r-YTxunm2N",
        "outputId": "4eef7706-f5dc-4a30-9547-75e5759fdb25"
      },
      "execution_count": 68,
      "outputs": [
        {
          "output_type": "stream",
          "name": "stdout",
          "text": [
            "10 23\n"
          ]
        }
      ]
    },
    {
      "cell_type": "code",
      "source": [
        "dataset[idx].x.detach().numpy().flatten()"
      ],
      "metadata": {
        "colab": {
          "base_uri": "https://localhost:8080/"
        },
        "id": "RS6b6zbYnrhw",
        "outputId": "21e1d462-293b-43ef-887b-ed73917e3f78"
      },
      "execution_count": 69,
      "outputs": [
        {
          "output_type": "execute_result",
          "data": {
            "text/plain": [
              "array([ 1.        ,  0.        ,  3.        ,  0.92638436,  1.99022801,\n",
              "        1.99245868,  0.88      ,  1.        ,  1.        ,  9.        ,\n",
              "        2.36807095,  1.86622321,  1.03246753,  0.84      ,  1.        ,\n",
              "        0.        ,  4.        ,  2.51675042,  1.32747069,  3.33244949,\n",
              "        0.72      ,  1.        ,  0.        ,  6.        ,  2.57185039,\n",
              "        0.99311024,  1.85656566,  0.6       ,  1.        ,  0.        ,\n",
              "        0.        ,  1.91632231,  1.38533058,  1.48290043,  0.56      ,\n",
              "        1.        ,  0.        ,  5.        ,  2.33189655,  1.15086207,\n",
              "        1.01818182,  0.4       ,  1.        ,  0.        ,  4.        ,\n",
              "        2.5696649 ,  1.08465608,  2.29356061,  0.32      ,  1.        ,\n",
              "        0.        ,  2.        ,  2.65363128,  1.12011173,  3.13333333,\n",
              "        0.2       ,  0.        ,  1.        , 11.        ,  3.37752161,\n",
              "        1.129683  ,  1.04      ,  0.2       ,  1.        ,  0.        ,\n",
              "        0.        ,  2.16      ,  0.61333333,  1.        ,  0.04      ])"
            ]
          },
          "metadata": {},
          "execution_count": 69
        }
      ]
    },
    {
      "cell_type": "code",
      "source": [
        "int(dataset[idx].y.detach().numpy())"
      ],
      "metadata": {
        "colab": {
          "base_uri": "https://localhost:8080/"
        },
        "id": "6aI7SEatDyrf",
        "outputId": "d7e19f5a-d0a2-4617-bbe4-a30376148dcf"
      },
      "execution_count": 70,
      "outputs": [
        {
          "output_type": "execute_result",
          "data": {
            "text/plain": [
              "0"
            ]
          },
          "metadata": {},
          "execution_count": 70
        }
      ]
    },
    {
      "cell_type": "code",
      "source": [
        "dataset[idx].edge_index"
      ],
      "metadata": {
        "id": "lSPGnDgP4K3I"
      },
      "execution_count": 59,
      "outputs": []
    },
    {
      "cell_type": "code",
      "source": [
        "dataset[idx].edge_index = dataset[0].zeta_index\n",
        "dataset[idx].num_edges"
      ],
      "metadata": {
        "colab": {
          "base_uri": "https://localhost:8080/"
        },
        "id": "DO66arVI4UTf",
        "outputId": "d387c305-4dc7-43af-c9eb-30cb3e4938e7"
      },
      "execution_count": 71,
      "outputs": [
        {
          "output_type": "execute_result",
          "data": {
            "text/plain": [
              "21"
            ]
          },
          "metadata": {},
          "execution_count": 71
        }
      ]
    },
    {
      "cell_type": "code",
      "source": [
        "\n",
        "\n",
        "for graph in dataset:\n",
        "  graph.edge_index = graph.zeta_index\n",
        "  # is_undir = graph.is_undirected() and is_undir\n"
      ],
      "metadata": {
        "colab": {
          "base_uri": "https://localhost:8080/"
        },
        "id": "Gp-4lI1nReZe",
        "outputId": "d4f517cf-dd3f-43dd-dd7e-d67a76e73a7e"
      },
      "execution_count": 63,
      "outputs": [
        {
          "output_type": "stream",
          "name": "stdout",
          "text": [
            "True\n"
          ]
        }
      ]
    },
    {
      "cell_type": "code",
      "source": [
        "dataset[idx].num_edges"
      ],
      "metadata": {
        "colab": {
          "base_uri": "https://localhost:8080/"
        },
        "id": "jdhB_Og5Suf-",
        "outputId": "34ae8893-0dd0-4d6b-a493-c85e5c6731b6"
      },
      "execution_count": 72,
      "outputs": [
        {
          "output_type": "execute_result",
          "data": {
            "text/plain": [
              "21"
            ]
          },
          "metadata": {},
          "execution_count": 72
        }
      ]
    },
    {
      "cell_type": "code",
      "source": [
        "# Graph is directed\n",
        "\n",
        "is_undir = True\n",
        "for graph in dataset:\n",
        "  if graph.is_undirected() is False:\n",
        "    is_undir = False\n",
        "    break\n",
        "\n",
        "print(is_undir)"
      ],
      "metadata": {
        "colab": {
          "base_uri": "https://localhost:8080/"
        },
        "id": "7zL2VQZKSz3Y",
        "outputId": "12e886e5-c3c5-46ca-c795-830be69c4ff0"
      },
      "execution_count": 65,
      "outputs": [
        {
          "output_type": "stream",
          "name": "stdout",
          "text": [
            "False\n"
          ]
        }
      ]
    },
    {
      "cell_type": "code",
      "source": [
        "# do all graphs have same number of nodes?\n",
        "\n",
        "is_same_node = True\n",
        "n_node = dataset[0].num_nodes\n",
        "for graph in dataset:\n",
        "  if graph.num_nodes != n_node:\n",
        "    is_same_node = False\n",
        "    break\n",
        "\n",
        "print(is_same_node)\n"
      ],
      "metadata": {
        "colab": {
          "base_uri": "https://localhost:8080/"
        },
        "id": "6X-MWHWf6qK1",
        "outputId": "98d3b063-68fa-4ebb-a08d-90e5208baf94"
      },
      "execution_count": 26,
      "outputs": [
        {
          "output_type": "stream",
          "name": "stdout",
          "text": [
            "True\n"
          ]
        }
      ]
    },
    {
      "cell_type": "markdown",
      "source": [
        "## Data preparation for baselines\n",
        "\n",
        "- concat the node vectors into a longer vector for every graph"
      ],
      "metadata": {
        "id": "tCxZa2nXDOOe"
      }
    },
    {
      "cell_type": "code",
      "source": [
        "import numpy as np"
      ],
      "metadata": {
        "id": "a-pTAWDCF_1W"
      },
      "execution_count": 34,
      "outputs": []
    },
    {
      "cell_type": "code",
      "source": [
        "x = dataset[0].x.detach().numpy().flatten()\n",
        "y = [int(dataset[0].y)]\n",
        "\n",
        "for i in range(1, len(dataset)):\n",
        "  x = np.vstack((x, dataset[i].x.detach().numpy().flatten()))\n",
        "  y.append(int(dataset[i].y))\n",
        "\n",
        "y = np.array(y)\n",
        "print(x.shape, y.shape)"
      ],
      "metadata": {
        "colab": {
          "base_uri": "https://localhost:8080/"
        },
        "id": "L6MEuWpmDTgT",
        "outputId": "0fb5cdae-feb3-4aee-f1ef-726e6b80e3f1"
      },
      "execution_count": 73,
      "outputs": [
        {
          "output_type": "stream",
          "name": "stdout",
          "text": [
            "(5000, 70) (5000,)\n"
          ]
        }
      ]
    },
    {
      "cell_type": "code",
      "source": [
        "from sklearn.model_selection import train_test_split\n",
        "\n",
        "x_train, x_test, y_train, y_test = train_test_split(x, y, test_size=0.3, random_state=42)"
      ],
      "metadata": {
        "id": "uppKc-ocKFYA"
      },
      "execution_count": 74,
      "outputs": []
    },
    {
      "cell_type": "markdown",
      "source": [
        "## Baselines"
      ],
      "metadata": {
        "id": "SAC31JJWEKzQ"
      }
    },
    {
      "cell_type": "markdown",
      "source": [
        "### Logistic Regression"
      ],
      "metadata": {
        "id": "E0Y9HRKjEjVT"
      }
    },
    {
      "cell_type": "code",
      "source": [
        "from sklearn.linear_model import LogisticRegression"
      ],
      "metadata": {
        "id": "DC1bRdj4ElVR"
      },
      "execution_count": 39,
      "outputs": []
    },
    {
      "cell_type": "code",
      "source": [
        "clf = LogisticRegression(random_state=42, max_iter=10000).fit(x_train, y_train)\n",
        "clf.score(x_test, y_test)"
      ],
      "metadata": {
        "colab": {
          "base_uri": "https://localhost:8080/"
        },
        "id": "BMqwOW26LWKf",
        "outputId": "905c08ec-1dbf-472c-b69d-3063a2a90f46"
      },
      "execution_count": 44,
      "outputs": [
        {
          "output_type": "execute_result",
          "data": {
            "text/plain": [
              "0.6853333333333333"
            ]
          },
          "metadata": {},
          "execution_count": 44
        }
      ]
    },
    {
      "cell_type": "code",
      "source": [
        ""
      ],
      "metadata": {
        "id": "6NLm4TmfLpn6"
      },
      "execution_count": null,
      "outputs": []
    },
    {
      "cell_type": "markdown",
      "source": [
        "### Support Vector Machines"
      ],
      "metadata": {
        "id": "AgbFrtM4OIdI"
      }
    },
    {
      "cell_type": "code",
      "source": [
        "from sklearn import svm"
      ],
      "metadata": {
        "id": "MNjuru8MORRw"
      },
      "execution_count": 45,
      "outputs": []
    },
    {
      "cell_type": "code",
      "source": [
        "clf = svm.SVC().fit(x_train, y_train)\n",
        "clf.score(x_test, y_test)"
      ],
      "metadata": {
        "colab": {
          "base_uri": "https://localhost:8080/"
        },
        "id": "KvNm0VqFPRpn",
        "outputId": "42e884c4-63bf-4814-d48e-995eada48fd3"
      },
      "execution_count": 46,
      "outputs": [
        {
          "output_type": "execute_result",
          "data": {
            "text/plain": [
              "0.6853333333333333"
            ]
          },
          "metadata": {},
          "execution_count": 46
        }
      ]
    },
    {
      "cell_type": "code",
      "source": [
        ""
      ],
      "metadata": {
        "id": "Ip35UTyKPe3j"
      },
      "execution_count": null,
      "outputs": []
    },
    {
      "cell_type": "markdown",
      "source": [
        "### Artificial Neural Networks"
      ],
      "metadata": {
        "id": "s8cKcDwrP4NG"
      }
    },
    {
      "cell_type": "code",
      "source": [
        "from sklearn.neural_network import MLPClassifier"
      ],
      "metadata": {
        "id": "GekmDLh8P8r2"
      },
      "execution_count": 47,
      "outputs": []
    },
    {
      "cell_type": "code",
      "source": [
        "clf = MLPClassifier(random_state=42, max_iter=100000).fit(x_train, y_train)\n",
        "clf.score(x_test, y_test)"
      ],
      "metadata": {
        "colab": {
          "base_uri": "https://localhost:8080/"
        },
        "id": "57dsns7fQQ2Y",
        "outputId": "57d97b01-6496-476d-8904-745a1d8a670d"
      },
      "execution_count": 50,
      "outputs": [
        {
          "output_type": "execute_result",
          "data": {
            "text/plain": [
              "0.584"
            ]
          },
          "metadata": {},
          "execution_count": 50
        }
      ]
    },
    {
      "cell_type": "code",
      "source": [
        ""
      ],
      "metadata": {
        "id": "H-LHr-KvQaIe"
      },
      "execution_count": null,
      "outputs": []
    }
  ]
}